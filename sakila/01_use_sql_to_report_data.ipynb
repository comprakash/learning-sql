{
    "metadata": {
        "kernelspec": {
            "name": "SQL",
            "display_name": "SQL",
            "language": "sql"
        },
        "language_info": {
            "name": "sql",
            "version": ""
        }
    },
    "nbformat_minor": 2,
    "nbformat": 4,
    "cells": [
        {
            "cell_type": "markdown",
            "source": [
                "Select actors which have first name is not equal to PENELOPE"
            ],
            "metadata": {
                "azdata_cell_guid": "2b919308-0b67-4525-8795-55b3583a0e0a"
            },
            "attachments": {}
        },
        {
            "cell_type": "code",
            "source": [
                "SELECT first_name, last_name \r\n",
                "FROM public.actor\r\n",
                "WHERE first_name <> 'PENELOPE'\r\n",
                "LIMIT 10;"
            ],
            "metadata": {
                "azdata_cell_guid": "d3da90fa-9528-454a-8bf1-60ee774933ca",
                "language": "sql",
                "tags": []
            },
            "outputs": [
                {
                    "output_type": "display_data",
                    "data": {
                        "text/html": "(10 row(s) affected)"
                    },
                    "metadata": {}
                },
                {
                    "output_type": "display_data",
                    "data": {
                        "text/html": "Total execution time: 00:00:00.005"
                    },
                    "metadata": {}
                },
                {
                    "output_type": "execute_result",
                    "metadata": {},
                    "execution_count": 8,
                    "data": {
                        "application/vnd.dataresource+json": {
                            "schema": {
                                "fields": [
                                    {
                                        "name": "first_name"
                                    },
                                    {
                                        "name": "last_name"
                                    }
                                ]
                            },
                            "data": [
                                {
                                    "0": "NICK",
                                    "1": "WAHLBERG"
                                },
                                {
                                    "0": "ED",
                                    "1": "CHASE"
                                },
                                {
                                    "0": "JENNIFER",
                                    "1": "DAVIS"
                                },
                                {
                                    "0": "JOHNNY",
                                    "1": "LOLLOBRIGIDA"
                                },
                                {
                                    "0": "BETTE",
                                    "1": "NICHOLSON"
                                },
                                {
                                    "0": "GRACE",
                                    "1": "MOSTEL"
                                },
                                {
                                    "0": "MATTHEW",
                                    "1": "JOHANSSON"
                                },
                                {
                                    "0": "JOE",
                                    "1": "SWANK"
                                },
                                {
                                    "0": "CHRISTIAN",
                                    "1": "GABLE"
                                },
                                {
                                    "0": "ZERO",
                                    "1": "CAGE"
                                }
                            ]
                        },
                        "text/html": [
                            "<table>",
                            "<tr><th>first_name</th><th>last_name</th></tr>",
                            "<tr><td>NICK</td><td>WAHLBERG</td></tr>",
                            "<tr><td>ED</td><td>CHASE</td></tr>",
                            "<tr><td>JENNIFER</td><td>DAVIS</td></tr>",
                            "<tr><td>JOHNNY</td><td>LOLLOBRIGIDA</td></tr>",
                            "<tr><td>BETTE</td><td>NICHOLSON</td></tr>",
                            "<tr><td>GRACE</td><td>MOSTEL</td></tr>",
                            "<tr><td>MATTHEW</td><td>JOHANSSON</td></tr>",
                            "<tr><td>JOE</td><td>SWANK</td></tr>",
                            "<tr><td>CHRISTIAN</td><td>GABLE</td></tr>",
                            "<tr><td>ZERO</td><td>CAGE</td></tr>",
                            "</table>"
                        ]
                    }
                }
            ],
            "execution_count": 8
        },
        {
            "cell_type": "markdown",
            "source": [
                "Select actors which have first name does not contain NELO"
            ],
            "metadata": {
                "language": "sql",
                "azdata_cell_guid": "ad0ff044-3a35-462f-8a06-3da57cd01616"
            },
            "attachments": {}
        },
        {
            "cell_type": "code",
            "source": [
                "SELECT first_name, last_name \r\n",
                "FROM actor\r\n",
                "WHERE first_name NOT LIKE '%NELO%'\r\n",
                "LIMIT 10;"
            ],
            "metadata": {
                "language": "sql",
                "azdata_cell_guid": "6d53c54a-941b-44b1-8644-96549e63adcc"
            },
            "outputs": [
                {
                    "output_type": "display_data",
                    "data": {
                        "text/html": "(10 row(s) affected)"
                    },
                    "metadata": {}
                },
                {
                    "output_type": "display_data",
                    "data": {
                        "text/html": "Total execution time: 00:00:00.003"
                    },
                    "metadata": {}
                },
                {
                    "output_type": "execute_result",
                    "metadata": {},
                    "execution_count": 9,
                    "data": {
                        "application/vnd.dataresource+json": {
                            "schema": {
                                "fields": [
                                    {
                                        "name": "first_name"
                                    },
                                    {
                                        "name": "last_name"
                                    }
                                ]
                            },
                            "data": [
                                {
                                    "0": "NICK",
                                    "1": "WAHLBERG"
                                },
                                {
                                    "0": "ED",
                                    "1": "CHASE"
                                },
                                {
                                    "0": "JENNIFER",
                                    "1": "DAVIS"
                                },
                                {
                                    "0": "JOHNNY",
                                    "1": "LOLLOBRIGIDA"
                                },
                                {
                                    "0": "BETTE",
                                    "1": "NICHOLSON"
                                },
                                {
                                    "0": "GRACE",
                                    "1": "MOSTEL"
                                },
                                {
                                    "0": "MATTHEW",
                                    "1": "JOHANSSON"
                                },
                                {
                                    "0": "JOE",
                                    "1": "SWANK"
                                },
                                {
                                    "0": "CHRISTIAN",
                                    "1": "GABLE"
                                },
                                {
                                    "0": "ZERO",
                                    "1": "CAGE"
                                }
                            ]
                        },
                        "text/html": [
                            "<table>",
                            "<tr><th>first_name</th><th>last_name</th></tr>",
                            "<tr><td>NICK</td><td>WAHLBERG</td></tr>",
                            "<tr><td>ED</td><td>CHASE</td></tr>",
                            "<tr><td>JENNIFER</td><td>DAVIS</td></tr>",
                            "<tr><td>JOHNNY</td><td>LOLLOBRIGIDA</td></tr>",
                            "<tr><td>BETTE</td><td>NICHOLSON</td></tr>",
                            "<tr><td>GRACE</td><td>MOSTEL</td></tr>",
                            "<tr><td>MATTHEW</td><td>JOHANSSON</td></tr>",
                            "<tr><td>JOE</td><td>SWANK</td></tr>",
                            "<tr><td>CHRISTIAN</td><td>GABLE</td></tr>",
                            "<tr><td>ZERO</td><td>CAGE</td></tr>",
                            "</table>"
                        ]
                    }
                }
            ],
            "execution_count": 9
        },
        {
            "cell_type": "markdown",
            "source": [
                "Select actors which have 3 \\<= actor\\_id \\>= 5"
            ],
            "metadata": {
                "language": "sql",
                "azdata_cell_guid": "4b4337f6-0f0d-40d3-91c6-de93e816f4d3"
            },
            "attachments": {}
        },
        {
            "cell_type": "code",
            "source": [
                "SELECT actor_id, first_name, last_name \r\n",
                "FROM actor\r\n",
                "WHERE actor_id BETWEEN 3 AND 5;"
            ],
            "metadata": {
                "language": "sql",
                "azdata_cell_guid": "e3865a88-8538-499f-b089-3a511ce23c06"
            },
            "outputs": [
                {
                    "output_type": "display_data",
                    "data": {
                        "text/html": "(3 row(s) affected)"
                    },
                    "metadata": {}
                },
                {
                    "output_type": "display_data",
                    "data": {
                        "text/html": "Total execution time: 00:00:00.005"
                    },
                    "metadata": {}
                },
                {
                    "output_type": "execute_result",
                    "metadata": {},
                    "execution_count": 10,
                    "data": {
                        "application/vnd.dataresource+json": {
                            "schema": {
                                "fields": [
                                    {
                                        "name": "actor_id"
                                    },
                                    {
                                        "name": "first_name"
                                    },
                                    {
                                        "name": "last_name"
                                    }
                                ]
                            },
                            "data": [
                                {
                                    "0": "3",
                                    "1": "ED",
                                    "2": "CHASE"
                                },
                                {
                                    "0": "4",
                                    "1": "JENNIFER",
                                    "2": "DAVIS"
                                },
                                {
                                    "0": "5",
                                    "1": "JOHNNY",
                                    "2": "LOLLOBRIGIDA"
                                }
                            ]
                        },
                        "text/html": [
                            "<table>",
                            "<tr><th>actor_id</th><th>first_name</th><th>last_name</th></tr>",
                            "<tr><td>3</td><td>ED</td><td>CHASE</td></tr>",
                            "<tr><td>4</td><td>JENNIFER</td><td>DAVIS</td></tr>",
                            "<tr><td>5</td><td>JOHNNY</td><td>LOLLOBRIGIDA</td></tr>",
                            "</table>"
                        ]
                    }
                }
            ],
            "execution_count": 10
        },
        {
            "cell_type": "markdown",
            "source": [
                "Select actors which have first name equals PENELOPE OR NICK OR ED"
            ],
            "metadata": {
                "language": "sql",
                "azdata_cell_guid": "4a8f73b7-b92d-49ee-ad6c-de80b25b1271"
            },
            "attachments": {}
        },
        {
            "cell_type": "code",
            "source": [
                "SELECT *\r\n",
                "FROM actor\r\n",
                "WHERE first_name IN ('PENELOPE', 'NICK', 'ED');"
            ],
            "metadata": {
                "language": "sql",
                "azdata_cell_guid": "5f8e65fe-ddbf-4058-8300-4d0658cd59f7"
            },
            "outputs": [
                {
                    "output_type": "display_data",
                    "data": {
                        "text/html": "(10 row(s) affected)"
                    },
                    "metadata": {}
                },
                {
                    "output_type": "display_data",
                    "data": {
                        "text/html": "Total execution time: 00:00:00.005"
                    },
                    "metadata": {}
                },
                {
                    "output_type": "execute_result",
                    "metadata": {},
                    "execution_count": 11,
                    "data": {
                        "application/vnd.dataresource+json": {
                            "schema": {
                                "fields": [
                                    {
                                        "name": "actor_id"
                                    },
                                    {
                                        "name": "first_name"
                                    },
                                    {
                                        "name": "last_name"
                                    },
                                    {
                                        "name": "last_update"
                                    }
                                ]
                            },
                            "data": [
                                {
                                    "0": "1",
                                    "1": "PENELOPE",
                                    "2": "GUINESS",
                                    "3": "2006-02-15T04:34:33"
                                },
                                {
                                    "0": "2",
                                    "1": "NICK",
                                    "2": "WAHLBERG",
                                    "3": "2006-02-15T04:34:33"
                                },
                                {
                                    "0": "3",
                                    "1": "ED",
                                    "2": "CHASE",
                                    "3": "2006-02-15T04:34:33"
                                },
                                {
                                    "0": "44",
                                    "1": "NICK",
                                    "2": "STALLONE",
                                    "3": "2006-02-15T04:34:33"
                                },
                                {
                                    "0": "54",
                                    "1": "PENELOPE",
                                    "2": "PINKETT",
                                    "3": "2006-02-15T04:34:33"
                                },
                                {
                                    "0": "104",
                                    "1": "PENELOPE",
                                    "2": "CRONYN",
                                    "3": "2006-02-15T04:34:33"
                                },
                                {
                                    "0": "120",
                                    "1": "PENELOPE",
                                    "2": "MONROE",
                                    "3": "2006-02-15T04:34:33"
                                },
                                {
                                    "0": "136",
                                    "1": "ED",
                                    "2": "MANSFIELD",
                                    "3": "2006-02-15T04:34:33"
                                },
                                {
                                    "0": "166",
                                    "1": "NICK",
                                    "2": "DEGENERES",
                                    "3": "2006-02-15T04:34:33"
                                },
                                {
                                    "0": "179",
                                    "1": "ED",
                                    "2": "GUINESS",
                                    "3": "2006-02-15T04:34:33"
                                }
                            ]
                        },
                        "text/html": [
                            "<table>",
                            "<tr><th>actor_id</th><th>first_name</th><th>last_name</th><th>last_update</th></tr>",
                            "<tr><td>1</td><td>PENELOPE</td><td>GUINESS</td><td>2006-02-15T04:34:33</td></tr>",
                            "<tr><td>2</td><td>NICK</td><td>WAHLBERG</td><td>2006-02-15T04:34:33</td></tr>",
                            "<tr><td>3</td><td>ED</td><td>CHASE</td><td>2006-02-15T04:34:33</td></tr>",
                            "<tr><td>44</td><td>NICK</td><td>STALLONE</td><td>2006-02-15T04:34:33</td></tr>",
                            "<tr><td>54</td><td>PENELOPE</td><td>PINKETT</td><td>2006-02-15T04:34:33</td></tr>",
                            "<tr><td>104</td><td>PENELOPE</td><td>CRONYN</td><td>2006-02-15T04:34:33</td></tr>",
                            "<tr><td>120</td><td>PENELOPE</td><td>MONROE</td><td>2006-02-15T04:34:33</td></tr>",
                            "<tr><td>136</td><td>ED</td><td>MANSFIELD</td><td>2006-02-15T04:34:33</td></tr>",
                            "<tr><td>166</td><td>NICK</td><td>DEGENERES</td><td>2006-02-15T04:34:33</td></tr>",
                            "<tr><td>179</td><td>ED</td><td>GUINESS</td><td>2006-02-15T04:34:33</td></tr>",
                            "</table>"
                        ]
                    }
                }
            ],
            "execution_count": 11
        },
        {
            "cell_type": "markdown",
            "source": [
                "Select actors which have first name starting with JA, zero or more characters in between and ending with NE"
            ],
            "metadata": {
                "language": "sql",
                "azdata_cell_guid": "8e6cbbdc-1bca-483d-81a7-68b6bbe006c0"
            },
            "attachments": {}
        },
        {
            "cell_type": "code",
            "source": [
                "SELECT *\r\n",
                "FROM actor\r\n",
                "WHERE first_name LIKE 'JA%NE';"
            ],
            "metadata": {
                "language": "sql",
                "azdata_cell_guid": "d2792ad5-16f4-43d2-8095-10717654a0e6"
            },
            "outputs": [
                {
                    "output_type": "display_data",
                    "data": {
                        "text/html": "(4 row(s) affected)"
                    },
                    "metadata": {}
                },
                {
                    "output_type": "display_data",
                    "data": {
                        "text/html": "Total execution time: 00:00:00.003"
                    },
                    "metadata": {}
                },
                {
                    "output_type": "execute_result",
                    "metadata": {},
                    "execution_count": 12,
                    "data": {
                        "application/vnd.dataresource+json": {
                            "schema": {
                                "fields": [
                                    {
                                        "name": "actor_id"
                                    },
                                    {
                                        "name": "first_name"
                                    },
                                    {
                                        "name": "last_name"
                                    },
                                    {
                                        "name": "last_update"
                                    }
                                ]
                            },
                            "data": [
                                {
                                    "0": "62",
                                    "1": "JAYNE",
                                    "2": "NEESON",
                                    "3": "2006-02-15T04:34:33"
                                },
                                {
                                    "0": "131",
                                    "1": "JANE",
                                    "2": "JACKMAN",
                                    "3": "2006-02-15T04:34:33"
                                },
                                {
                                    "0": "150",
                                    "1": "JAYNE",
                                    "2": "NOLTE",
                                    "3": "2006-02-15T04:34:33"
                                },
                                {
                                    "0": "195",
                                    "1": "JAYNE",
                                    "2": "SILVERSTONE",
                                    "3": "2006-02-15T04:34:33"
                                }
                            ]
                        },
                        "text/html": [
                            "<table>",
                            "<tr><th>actor_id</th><th>first_name</th><th>last_name</th><th>last_update</th></tr>",
                            "<tr><td>62</td><td>JAYNE</td><td>NEESON</td><td>2006-02-15T04:34:33</td></tr>",
                            "<tr><td>131</td><td>JANE</td><td>JACKMAN</td><td>2006-02-15T04:34:33</td></tr>",
                            "<tr><td>150</td><td>JAYNE</td><td>NOLTE</td><td>2006-02-15T04:34:33</td></tr>",
                            "<tr><td>195</td><td>JAYNE</td><td>SILVERSTONE</td><td>2006-02-15T04:34:33</td></tr>",
                            "</table>"
                        ]
                    }
                }
            ],
            "execution_count": 12
        },
        {
            "cell_type": "markdown",
            "source": [
                "Select actors which have first name starting with JA, containing exactly one letter in between and ending with NE"
            ],
            "metadata": {
                "language": "sql",
                "azdata_cell_guid": "05979763-2e54-4786-bbdc-43d893e4f440"
            },
            "attachments": {}
        },
        {
            "cell_type": "code",
            "source": [
                "SELECT *\r\n",
                "FROM actor\r\n",
                "WHERE first_name LIKE 'JA_NE';"
            ],
            "metadata": {
                "language": "sql",
                "azdata_cell_guid": "a7529610-d7ba-44ce-a466-e4facd9a2560"
            },
            "outputs": [
                {
                    "output_type": "display_data",
                    "data": {
                        "text/html": "(3 row(s) affected)"
                    },
                    "metadata": {}
                },
                {
                    "output_type": "display_data",
                    "data": {
                        "text/html": "Total execution time: 00:00:00.004"
                    },
                    "metadata": {}
                },
                {
                    "output_type": "execute_result",
                    "metadata": {},
                    "execution_count": 13,
                    "data": {
                        "application/vnd.dataresource+json": {
                            "schema": {
                                "fields": [
                                    {
                                        "name": "actor_id"
                                    },
                                    {
                                        "name": "first_name"
                                    },
                                    {
                                        "name": "last_name"
                                    },
                                    {
                                        "name": "last_update"
                                    }
                                ]
                            },
                            "data": [
                                {
                                    "0": "62",
                                    "1": "JAYNE",
                                    "2": "NEESON",
                                    "3": "2006-02-15T04:34:33"
                                },
                                {
                                    "0": "150",
                                    "1": "JAYNE",
                                    "2": "NOLTE",
                                    "3": "2006-02-15T04:34:33"
                                },
                                {
                                    "0": "195",
                                    "1": "JAYNE",
                                    "2": "SILVERSTONE",
                                    "3": "2006-02-15T04:34:33"
                                }
                            ]
                        },
                        "text/html": [
                            "<table>",
                            "<tr><th>actor_id</th><th>first_name</th><th>last_name</th><th>last_update</th></tr>",
                            "<tr><td>62</td><td>JAYNE</td><td>NEESON</td><td>2006-02-15T04:34:33</td></tr>",
                            "<tr><td>150</td><td>JAYNE</td><td>NOLTE</td><td>2006-02-15T04:34:33</td></tr>",
                            "<tr><td>195</td><td>JAYNE</td><td>SILVERSTONE</td><td>2006-02-15T04:34:33</td></tr>",
                            "</table>"
                        ]
                    }
                }
            ],
            "execution_count": 13
        }
    ]
}